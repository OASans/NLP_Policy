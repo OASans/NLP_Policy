{
 "cells": [
  {
   "cell_type": "code",
   "execution_count": 1,
   "metadata": {},
   "outputs": [],
   "source": [
    "import pandas as pd\n",
    "import re\n",
    "import glob\n",
    "import os\n",
    "import shutil\n",
    "import json\n",
    "from collections import defaultdict"
   ]
  },
  {
   "cell_type": "code",
   "execution_count": 5,
   "metadata": {},
   "outputs": [],
   "source": [
    "people = pd.DataFrame([['王昕', '20307090013'], ['苏慧怡', '19307090197'], ['赵子昂', '20307090056'], ['王心恬', '19307090134'],\n",
    "                      ['冷方琼', '20307090139'], ['周人芨', '19307090009'], ['南楠', '20307090155'],\n",
    "                      ['苏品菁', '20307090170'],['张宇恬', '19307090122'], ['初子菡', '18307090138'], \n",
    "                      ['柏柯羽', '20307090147'], ['帕提曼', '19307090210'], ['贺凡熙', '21210170020'], ['施烨昕', ' ']])\n",
    "people.columns = ['name', 'student_id']"
   ]
  },
  {
   "cell_type": "code",
   "execution_count": 6,
   "metadata": {},
   "outputs": [
    {
     "data": {
      "text/html": [
       "<div>\n",
       "<style scoped>\n",
       "    .dataframe tbody tr th:only-of-type {\n",
       "        vertical-align: middle;\n",
       "    }\n",
       "\n",
       "    .dataframe tbody tr th {\n",
       "        vertical-align: top;\n",
       "    }\n",
       "\n",
       "    .dataframe thead th {\n",
       "        text-align: right;\n",
       "    }\n",
       "</style>\n",
       "<table border=\"1\" class=\"dataframe\">\n",
       "  <thead>\n",
       "    <tr style=\"text-align: right;\">\n",
       "      <th></th>\n",
       "      <th>name</th>\n",
       "      <th>student_id</th>\n",
       "    </tr>\n",
       "  </thead>\n",
       "  <tbody>\n",
       "    <tr>\n",
       "      <th>0</th>\n",
       "      <td>王昕</td>\n",
       "      <td>20307090013</td>\n",
       "    </tr>\n",
       "    <tr>\n",
       "      <th>1</th>\n",
       "      <td>苏慧怡</td>\n",
       "      <td>19307090197</td>\n",
       "    </tr>\n",
       "    <tr>\n",
       "      <th>2</th>\n",
       "      <td>赵子昂</td>\n",
       "      <td>20307090056</td>\n",
       "    </tr>\n",
       "    <tr>\n",
       "      <th>3</th>\n",
       "      <td>王心恬</td>\n",
       "      <td>19307090134</td>\n",
       "    </tr>\n",
       "    <tr>\n",
       "      <th>4</th>\n",
       "      <td>冷方琼</td>\n",
       "      <td>20307090139</td>\n",
       "    </tr>\n",
       "    <tr>\n",
       "      <th>5</th>\n",
       "      <td>周人芨</td>\n",
       "      <td>19307090009</td>\n",
       "    </tr>\n",
       "    <tr>\n",
       "      <th>6</th>\n",
       "      <td>南楠</td>\n",
       "      <td>20307090155</td>\n",
       "    </tr>\n",
       "    <tr>\n",
       "      <th>7</th>\n",
       "      <td>苏品菁</td>\n",
       "      <td>20307090170</td>\n",
       "    </tr>\n",
       "    <tr>\n",
       "      <th>8</th>\n",
       "      <td>张宇恬</td>\n",
       "      <td>19307090122</td>\n",
       "    </tr>\n",
       "    <tr>\n",
       "      <th>9</th>\n",
       "      <td>初子菡</td>\n",
       "      <td>18307090138</td>\n",
       "    </tr>\n",
       "    <tr>\n",
       "      <th>10</th>\n",
       "      <td>柏柯羽</td>\n",
       "      <td>20307090147</td>\n",
       "    </tr>\n",
       "    <tr>\n",
       "      <th>11</th>\n",
       "      <td>帕提曼</td>\n",
       "      <td>19307090210</td>\n",
       "    </tr>\n",
       "    <tr>\n",
       "      <th>12</th>\n",
       "      <td>贺凡熙</td>\n",
       "      <td>21210170020</td>\n",
       "    </tr>\n",
       "    <tr>\n",
       "      <th>13</th>\n",
       "      <td>施烨昕</td>\n",
       "      <td></td>\n",
       "    </tr>\n",
       "  </tbody>\n",
       "</table>\n",
       "</div>"
      ],
      "text/plain": [
       "   name   student_id\n",
       "0    王昕  20307090013\n",
       "1   苏慧怡  19307090197\n",
       "2   赵子昂  20307090056\n",
       "3   王心恬  19307090134\n",
       "4   冷方琼  20307090139\n",
       "5   周人芨  19307090009\n",
       "6    南楠  20307090155\n",
       "7   苏品菁  20307090170\n",
       "8   张宇恬  19307090122\n",
       "9   初子菡  18307090138\n",
       "10  柏柯羽  20307090147\n",
       "11  帕提曼  19307090210\n",
       "12  贺凡熙  21210170020\n",
       "13  施烨昕             "
      ]
     },
     "execution_count": 6,
     "metadata": {},
     "output_type": "execute_result"
    }
   ],
   "source": [
    "people"
   ]
  },
  {
   "cell_type": "code",
   "execution_count": 7,
   "metadata": {},
   "outputs": [],
   "source": [
    "start = 400\n",
    "each = 10\n",
    "names = people.loc[:, 'name'].values"
   ]
  },
  {
   "cell_type": "code",
   "execution_count": 16,
   "metadata": {},
   "outputs": [],
   "source": [
    "# 给每个人创建标注任务文件夹并将文件放进去\n",
    "for i, name in enumerate(names):\n",
    "    dir_name = '/Volumes/TOURO Mobil/policy标注/政策文件tasks/第二周/{}-第二周'.format(name)\n",
    "    if not os.path.exists(dir_name):\n",
    "        os.mkdir(dir_name)\n",
    "    start_file = start + 10 * i\n",
    "    end_file = start_file + 10\n",
    "    for idx in range(start_file, end_file):\n",
    "        shutil.copytree('/Volumes/TOURO Mobil/policy标注/政策文件rawdata/{}'.format(str(idx)), dir_name+'/{}'.format(str(idx)))"
   ]
  },
  {
   "cell_type": "code",
   "execution_count": 17,
   "metadata": {},
   "outputs": [
    {
     "data": {
      "text/html": [
       "<div>\n",
       "<style scoped>\n",
       "    .dataframe tbody tr th:only-of-type {\n",
       "        vertical-align: middle;\n",
       "    }\n",
       "\n",
       "    .dataframe tbody tr th {\n",
       "        vertical-align: top;\n",
       "    }\n",
       "\n",
       "    .dataframe thead th {\n",
       "        text-align: right;\n",
       "    }\n",
       "</style>\n",
       "<table border=\"1\" class=\"dataframe\">\n",
       "  <thead>\n",
       "    <tr style=\"text-align: right;\">\n",
       "      <th></th>\n",
       "      <th>name</th>\n",
       "      <th>student_id</th>\n",
       "    </tr>\n",
       "  </thead>\n",
       "  <tbody>\n",
       "    <tr>\n",
       "      <th>0</th>\n",
       "      <td>王远</td>\n",
       "      <td></td>\n",
       "    </tr>\n",
       "    <tr>\n",
       "      <th>1</th>\n",
       "      <td>蒋佳钰</td>\n",
       "      <td></td>\n",
       "    </tr>\n",
       "  </tbody>\n",
       "</table>\n",
       "</div>"
      ],
      "text/plain": [
       "  name student_id\n",
       "0   王远           \n",
       "1  蒋佳钰           "
      ]
     },
     "execution_count": 17,
     "metadata": {},
     "output_type": "execute_result"
    }
   ],
   "source": [
    "people = pd.DataFrame([['王远', ' '], ['蒋佳钰', ' ']])\n",
    "people.columns = ['name', 'student_id']\n",
    "people"
   ]
  },
  {
   "cell_type": "code",
   "execution_count": 18,
   "metadata": {},
   "outputs": [],
   "source": [
    "start = 540\n",
    "each = 10\n",
    "names = people.loc[:, 'name'].values\n",
    "# 给每个人创建标注任务文件夹并将文件放进去\n",
    "for i, name in enumerate(names):\n",
    "    dir_name = '/Volumes/TOURO Mobil/policy标注/政策文件tasks/第二周/{}-第二周'.format(name)\n",
    "    if not os.path.exists(dir_name):\n",
    "        os.mkdir(dir_name)\n",
    "    start_file = start + 10 * i\n",
    "    end_file = start_file + 10\n",
    "    for idx in range(start_file, end_file):\n",
    "        shutil.copytree('/Volumes/TOURO Mobil/policy标注/政策文件rawdata/{}'.format(str(idx)), dir_name+'/{}'.format(str(idx)))"
   ]
  },
  {
   "cell_type": "code",
   "execution_count": null,
   "metadata": {},
   "outputs": [],
   "source": [
    "# start = 560"
   ]
  },
  {
   "cell_type": "code",
   "execution_count": 2,
   "metadata": {},
   "outputs": [
    {
     "data": {
      "text/html": [
       "<div>\n",
       "<style scoped>\n",
       "    .dataframe tbody tr th:only-of-type {\n",
       "        vertical-align: middle;\n",
       "    }\n",
       "\n",
       "    .dataframe tbody tr th {\n",
       "        vertical-align: top;\n",
       "    }\n",
       "\n",
       "    .dataframe thead th {\n",
       "        text-align: right;\n",
       "    }\n",
       "</style>\n",
       "<table border=\"1\" class=\"dataframe\">\n",
       "  <thead>\n",
       "    <tr style=\"text-align: right;\">\n",
       "      <th></th>\n",
       "      <th>name</th>\n",
       "      <th>student_id</th>\n",
       "    </tr>\n",
       "  </thead>\n",
       "  <tbody>\n",
       "    <tr>\n",
       "      <th>0</th>\n",
       "      <td>陈奔逸</td>\n",
       "      <td></td>\n",
       "    </tr>\n",
       "  </tbody>\n",
       "</table>\n",
       "</div>"
      ],
      "text/plain": [
       "  name student_id\n",
       "0  陈奔逸           "
      ]
     },
     "execution_count": 2,
     "metadata": {},
     "output_type": "execute_result"
    }
   ],
   "source": [
    "people = pd.DataFrame([['陈奔逸', ' ']])\n",
    "people.columns = ['name', 'student_id']\n",
    "people"
   ]
  },
  {
   "cell_type": "code",
   "execution_count": null,
   "metadata": {},
   "outputs": [],
   "source": [
    "start = 560\n",
    "each = 10\n",
    "names = people.loc[:, 'name'].values\n",
    "# 给每个人创建标注任务文件夹并将文件放进去\n",
    "for i, name in enumerate(names):\n",
    "    dir_name = '/Volumes/TOURO Mobil/policy标注/政策文件tasks/第二周/{}-第二周'.format(name)\n",
    "    if not os.path.exists(dir_name):\n",
    "        os.mkdir(dir_name)\n",
    "    start_file = start + 10 * i\n",
    "    end_file = start_file + 10\n",
    "    for idx in range(start_file, end_file):\n",
    "        shutil.copytree('/Volumes/TOURO Mobil/policy标注/政策文件rawdata/{}'.format(str(idx)), dir_name+'/{}'.format(str(idx)))"
   ]
  }
 ],
 "metadata": {
  "kernelspec": {
   "display_name": "Python 3",
   "language": "python",
   "name": "python3"
  },
  "language_info": {
   "codemirror_mode": {
    "name": "ipython",
    "version": 3
   },
   "file_extension": ".py",
   "mimetype": "text/x-python",
   "name": "python",
   "nbconvert_exporter": "python",
   "pygments_lexer": "ipython3",
   "version": "3.7.1"
  }
 },
 "nbformat": 4,
 "nbformat_minor": 2
}
