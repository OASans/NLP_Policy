{
 "cells": [
  {
   "cell_type": "code",
   "execution_count": 16,
   "metadata": {},
   "outputs": [],
   "source": [
    "import json\n",
    "import pandas as pd\n",
    "import numpy as np\n",
    "import seaborn as sns\n",
    "import matplotlib.pyplot as plt"
   ]
  },
  {
   "cell_type": "code",
   "execution_count": 3,
   "metadata": {},
   "outputs": [],
   "source": [
    "data_path = '/Users/ishi/PycharmProjects/NLP_Policy/NLP_Policy/data_process/datasets/sentence_classification.json'\n",
    "with open(data_path, 'r') as f:\n",
    "    raw_data = json.load(f)"
   ]
  },
  {
   "cell_type": "code",
   "execution_count": 4,
   "metadata": {},
   "outputs": [],
   "source": [
    "raw_data = pd.DataFrame(raw_data)"
   ]
  },
  {
   "cell_type": "code",
   "execution_count": 5,
   "metadata": {},
   "outputs": [
    {
     "data": {
      "text/html": [
       "<div>\n",
       "<style scoped>\n",
       "    .dataframe tbody tr th:only-of-type {\n",
       "        vertical-align: middle;\n",
       "    }\n",
       "\n",
       "    .dataframe tbody tr th {\n",
       "        vertical-align: top;\n",
       "    }\n",
       "\n",
       "    .dataframe thead th {\n",
       "        text-align: right;\n",
       "    }\n",
       "</style>\n",
       "<table border=\"1\" class=\"dataframe\">\n",
       "  <thead>\n",
       "    <tr style=\"text-align: right;\">\n",
       "      <th></th>\n",
       "      <th>uid</th>\n",
       "      <th>sid</th>\n",
       "      <th>sentence</th>\n",
       "      <th>sentence_type</th>\n",
       "    </tr>\n",
       "  </thead>\n",
       "  <tbody>\n",
       "    <tr>\n",
       "      <th>0</th>\n",
       "      <td>410</td>\n",
       "      <td>410_1</td>\n",
       "      <td>嘉兴市科学技术局嘉兴市财政局嘉兴市人民政府金融工作办公室嘉科综〔2018〕47号</td>\n",
       "      <td></td>\n",
       "    </tr>\n",
       "    <tr>\n",
       "      <th>1</th>\n",
       "      <td>410</td>\n",
       "      <td>410_2</td>\n",
       "      <td>嘉兴市科学技术局嘉兴市财政局嘉兴市人民政府金融工作办公室关于印发《嘉兴市科技保险补贴实施办法...</td>\n",
       "      <td></td>\n",
       "    </tr>\n",
       "    <tr>\n",
       "      <th>2</th>\n",
       "      <td>410</td>\n",
       "      <td>410_3</td>\n",
       "      <td>现将《嘉兴市科技保险补贴实施办法（试行）》予以印发，请遵照执行。</td>\n",
       "      <td></td>\n",
       "    </tr>\n",
       "    <tr>\n",
       "      <th>3</th>\n",
       "      <td>410</td>\n",
       "      <td>410_4</td>\n",
       "      <td>嘉兴市科学技术局嘉兴市财政局嘉兴市人民政府金融工作办公室2018年6月19日嘉兴市科技保险补...</td>\n",
       "      <td>政策目标</td>\n",
       "    </tr>\n",
       "    <tr>\n",
       "      <th>4</th>\n",
       "      <td>410</td>\n",
       "      <td>410_5</td>\n",
       "      <td>第一条 实施科技保险补贴，旨在引导科技企业通过保险工具为企业的技术创新活动化解风险，促进高新...</td>\n",
       "      <td>政策内容-目标规划</td>\n",
       "    </tr>\n",
       "  </tbody>\n",
       "</table>\n",
       "</div>"
      ],
      "text/plain": [
       "   uid    sid                                           sentence sentence_type\n",
       "0  410  410_1           嘉兴市科学技术局嘉兴市财政局嘉兴市人民政府金融工作办公室嘉科综〔2018〕47号              \n",
       "1  410  410_2  嘉兴市科学技术局嘉兴市财政局嘉兴市人民政府金融工作办公室关于印发《嘉兴市科技保险补贴实施办法...              \n",
       "2  410  410_3                   现将《嘉兴市科技保险补贴实施办法（试行）》予以印发，请遵照执行。              \n",
       "3  410  410_4  嘉兴市科学技术局嘉兴市财政局嘉兴市人民政府金融工作办公室2018年6月19日嘉兴市科技保险补...          政策目标\n",
       "4  410  410_5  第一条 实施科技保险补贴，旨在引导科技企业通过保险工具为企业的技术创新活动化解风险，促进高新...     政策内容-目标规划"
      ]
     },
     "execution_count": 5,
     "metadata": {},
     "output_type": "execute_result"
    }
   ],
   "source": [
    "raw_data.head()"
   ]
  },
  {
   "cell_type": "markdown",
   "metadata": {},
   "source": [
    "### 类别标签分布"
   ]
  },
  {
   "cell_type": "code",
   "execution_count": 7,
   "metadata": {},
   "outputs": [
    {
     "data": {
      "text/plain": [
       "sentence_type\n",
       "             402\n",
       "政策内容-人才培养     22\n",
       "政策内容-公共服务     54\n",
       "政策内容-技术支持      9\n",
       "政策内容-政府采购      1\n",
       "政策内容-政策宣传      2\n",
       "政策内容-法规管制     16\n",
       "政策内容-海外合作      3\n",
       "政策内容-目标规划    304\n",
       "政策内容-税收优惠     20\n",
       "政策内容-组织建设     15\n",
       "政策内容-资金支持    431\n",
       "政策内容-金融支持     39\n",
       "政策目标          19\n",
       "申请审核程序        45\n",
       "监管评估-监督管理     69\n",
       "监管评估-考核评估     54\n",
       "资金管理-管理原则     31\n",
       "资金管理-资金来源      6\n",
       "Name: sentence, dtype: int64"
      ]
     },
     "execution_count": 7,
     "metadata": {},
     "output_type": "execute_result"
    }
   ],
   "source": [
    "raw_data.groupby('sentence_type')['sentence'].count()"
   ]
  },
  {
   "cell_type": "markdown",
   "metadata": {},
   "source": [
    "### 句子长度分布"
   ]
  },
  {
   "cell_type": "code",
   "execution_count": 10,
   "metadata": {},
   "outputs": [],
   "source": [
    "raw_data['sentence_len'] = raw_data['sentence'].apply(len)"
   ]
  },
  {
   "cell_type": "code",
   "execution_count": 12,
   "metadata": {},
   "outputs": [
    {
     "data": {
      "text/plain": [
       "389"
      ]
     },
     "execution_count": 12,
     "metadata": {},
     "output_type": "execute_result"
    }
   ],
   "source": [
    "max(raw_data['sentence_len'])"
   ]
  },
  {
   "cell_type": "code",
   "execution_count": 13,
   "metadata": {},
   "outputs": [
    {
     "data": {
      "text/plain": [
       "2"
      ]
     },
     "execution_count": 13,
     "metadata": {},
     "output_type": "execute_result"
    }
   ],
   "source": [
    "min(raw_data['sentence_len'])"
   ]
  },
  {
   "cell_type": "code",
   "execution_count": 15,
   "metadata": {},
   "outputs": [
    {
     "data": {
      "text/plain": [
       "(array([835., 508., 154.,  29.,   8.,   4.,   2.,   1.,   0.,   1.]),\n",
       " array([  2. ,  40.7,  79.4, 118.1, 156.8, 195.5, 234.2, 272.9, 311.6,\n",
       "        350.3, 389. ]),\n",
       " <BarContainer object of 10 artists>)"
      ]
     },
     "execution_count": 15,
     "metadata": {},
     "output_type": "execute_result"
    },
    {
     "data": {
      "image/png": "[encoded data removed]",
      "text/plain": [
       "<Figure size 432x288 with 1 Axes>"
      ]
     },
     "metadata": {
      "needs_background": "light"
     },
     "output_type": "display_data"
    }
   ],
   "source": [
    "plt.hist(raw_data['sentence_len'])"
   ]
  },
  {
   "cell_type": "code",
   "execution_count": 17,
   "metadata": {},
   "outputs": [
    {
     "data": {
      "text/plain": [
       "<AxesSubplot:xlabel='sentence_len', ylabel='Density'>"
      ]
     },
     "execution_count": 17,
     "metadata": {},
     "output_type": "execute_result"
    },
    {
     "data": {
      "image/png": "[encoded data removed]",
      "text/plain": [
       "<Figure size 432x288 with 1 Axes>"
      ]
     },
     "metadata": {
      "needs_background": "light"
     },
     "output_type": "display_data"
    }
   ],
   "source": [
    "sns.kdeplot(raw_data['sentence_len'])"
   ]
  },
  {
   "cell_type": "code",
   "execution_count": null,
   "metadata": {},
   "outputs": [],
   "source": []
  }
 ],
 "metadata": {
  "kernelspec": {
   "display_name": "Python 3",
   "language": "python",
   "name": "python3"
  },
  "language_info": {
   "codemirror_mode": {
    "name": "ipython",
    "version": 3
   },
   "file_extension": ".py",
   "mimetype": "text/x-python",
   "name": "python",
   "nbconvert_exporter": "python",
   "pygments_lexer": "ipython3",
   "version": "3.8.8"
  }
 },
 "nbformat": 4,
 "nbformat_minor": 1
}
